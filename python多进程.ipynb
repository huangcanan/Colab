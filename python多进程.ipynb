{
  "nbformat": 4,
  "nbformat_minor": 0,
  "metadata": {
    "colab": {
      "provenance": [],
      "toc_visible": true,
      "authorship_tag": "ABX9TyNPNYk6ItBMPWVf6Bwf0CWA",
      "include_colab_link": true
    },
    "kernelspec": {
      "name": "python3",
      "display_name": "Python 3"
    },
    "language_info": {
      "name": "python"
    }
  },
  "cells": [
    {
      "cell_type": "markdown",
      "metadata": {
        "id": "view-in-github",
        "colab_type": "text"
      },
      "source": [
        "<a href=\"https://colab.research.google.com/github/huangcanan/Colab/blob/main/python%E5%A4%9A%E8%BF%9B%E7%A8%8B.ipynb\" target=\"_parent\"><img src=\"https://colab.research.google.com/assets/colab-badge.svg\" alt=\"Open In Colab\"/></a>"
      ]
    },
    {
      "cell_type": "markdown",
      "source": [
        "# python多进程\n",
        "在python中，可以使用多进程的方法，将一个任务切分成平行的多个子任务并行进行。多进程可以充分利用CPU，缩短程序完成的时间。\n",
        "\n",
        "\n"
      ],
      "metadata": {
        "id": "M1PIM-Eaddpj"
      }
    },
    {
      "cell_type": "markdown",
      "source": [
        "#一、Quick Start"
      ],
      "metadata": {
        "id": "84h-7XT_gHK9"
      }
    },
    {
      "cell_type": "markdown",
      "source": [],
      "metadata": {
        "id": "znTNe0XbseMM"
      }
    },
    {
      "cell_type": "markdown",
      "source": [
        "python可以使用multiprocessing工具来实现多进程。在Quick Start中使用multiprocessing的Pool对象，完成了一个列表的多进程处理。"
      ],
      "metadata": {
        "id": "8ockotbAgfJN"
      }
    },
    {
      "cell_type": "code",
      "source": [
        "from multiprocessing import Pool\n",
        "from time import time\n",
        "\n",
        "def process(x):\n",
        "  return x * x\n",
        "\n",
        "if __name__ == '__main__':\n",
        "  pool = Pool(10)\n",
        "\n",
        "  x_list = [i for i in range(10)]\n",
        "\n",
        "  start = time()\n",
        "  print(pool.map(process, x_list))\n",
        "  end = time()\n",
        "  print(end - start)\n"
      ],
      "metadata": {
        "colab": {
          "base_uri": "https://localhost:8080/"
        },
        "id": "FKBtAFULgcUT",
        "outputId": "9cafdc47-a1b3-47b9-a919-3811d4b23967"
      },
      "execution_count": null,
      "outputs": [
        {
          "output_type": "stream",
          "name": "stdout",
          "text": [
            "[0, 1, 4, 9, 16, 25, 36, 49, 64, 81]\n",
            "0.009760856628417969\n"
          ]
        }
      ]
    },
    {
      "cell_type": "markdown",
      "source": [
        "#二、运行函数需要多个参数\n",
        "当需要多进程运行的函数需要多个参数时，最简单的方法就是将这些参数打包成一个元组，用元组类型来传参"
      ],
      "metadata": {
        "id": "-mKbZpf0IO-F"
      }
    },
    {
      "cell_type": "code",
      "source": [
        "def process(args: tuple):\n",
        "  x, y, z = args[0], args[1], args[2]\n",
        "  return x * y + z\n",
        "\n",
        "if __name__ == '__main__':\n",
        "  pool = Pool(12)\n",
        "\n",
        "  tuple_list = [tuple([a for a in range(b, b + 3)]) for b in range(0, 12, 3)]\n",
        "  print(tuple_list)\n",
        "  start = time()\n",
        "  print(pool.map(process, tuple_list))\n",
        "  end = time()\n",
        "  print(end - start)"
      ],
      "metadata": {
        "colab": {
          "base_uri": "https://localhost:8080/"
        },
        "id": "87NqG0pvHMfx",
        "outputId": "a098e83f-8fb9-42d5-e169-38d9a81626d3"
      },
      "execution_count": null,
      "outputs": [
        {
          "output_type": "stream",
          "name": "stdout",
          "text": [
            "[(0, 1, 2), (3, 4, 5), (6, 7, 8), (9, 10, 11)]\n",
            "[2, 17, 50, 101]\n",
            "0.0023381710052490234\n"
          ]
        }
      ]
    }
  ]
}